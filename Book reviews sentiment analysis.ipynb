{
 "cells": [
  {
   "cell_type": "markdown",
   "id": "4a1c3ac8",
   "metadata": {},
   "source": [
    "### Book Reviews Sentiment Classification\n",
    "#### By: Adebola Orogun\n",
    "\n",
    "This project is aimed at building a simple machine learning model that classifies reviews  from people who bought a book.This explores Natural Language Processing techniques and other data manipulation and machine learning procedures."
   ]
  },
  {
   "cell_type": "code",
   "execution_count": 2,
   "id": "02af606f",
   "metadata": {},
   "outputs": [],
   "source": [
    "#Creating a class for the sentiments, reviews and review container for easier implementation of the project\n",
    "# Also helps the calling of the components of the json files in python\n",
    "\n",
    "import random\n",
    "\n",
    "# The sentiment class which creates instances for categories of sentiments.\n",
    "class Sentiment:\n",
    "    NEGATIVE = \"NEGATIVE\"\n",
    "    NEUTRAL = \"NEUTRAL\"\n",
    "    POSITIVE = \"POSITIVE\"\n",
    "    \n",
    "# Review class which returns the category of sentiment based on the text and score of the input text(review)\n",
    "class Review:\n",
    "    def __init__(self, text, score):\n",
    "        self.text = text\n",
    "        self.score = score\n",
    "        self.sentiment = self.get_sentiment()\n",
    "        \n",
    "    def get_sentiment(self):\n",
    "        if self.score <=2:\n",
    "            return Sentiment.NEGATIVE\n",
    "        elif self.score == 3:\n",
    "            return Sentiment.NEUTRAL\n",
    "        else:\n",
    "            return Sentiment.POSITIVE\n",
    "\n",
    "# The ReviewContainer class creates an object for the reviews, giving us the functionality to retrieve texts, retrieve sentiments\n",
    "# Also gives the functionality to evenly distribute the reviews based on their classes (Negative and positive)\n",
    "class ReviewContainer:\n",
    "    def __init__(self, reviews):\n",
    "        self.reviews = reviews\n",
    "        \n",
    "    def get_text(self):\n",
    "        return [x.text for x in self.reviews]\n",
    "    \n",
    "    def get_sentiment(self):\n",
    "        return [x.sentiment for x in self.reviews]\n",
    "    \n",
    "    def evenly_distribute(self):\n",
    "        negative = list(filter(lambda x: x.sentiment == Sentiment.NEGATIVE, self.reviews)) #Checks if sentiment of text is Negative\n",
    "        positive = list(filter(lambda x: x.sentiment == Sentiment.POSITIVE, self.reviews)) #Checks for positive sentiments\n",
    "        positive_shrunk = positive[:len(negative)] # Reduce the lenght of positive reviews to same as negative reviews\n",
    "        self.reviews = negative + positive_shrunk #Combines the list of positive and negative reviews \n",
    "        random.shuffle(self.reviews) # Shuffles the list of reviews to remove any type of order as a result of previous steps."
   ]
  },
  {
   "cell_type": "code",
   "execution_count": 3,
   "id": "356f7038",
   "metadata": {},
   "outputs": [
    {
     "data": {
      "text/plain": [
       "'I love Nicholas Sparks. I&#8217;ve read everything he&#8217;s written and couldn&#8217;t wait for my copy of Safe Haven to arrive.Safe Haven had a different feel than many of Nicholas Sparks books. It was much less sappy than most of his books. Don&#8217;t get me wrong&#8230; I love sappy but this book was much deeper than many of his other books. It explored life in an abusive relationship and the struggle to escape and start over.I felt a connection to the characters and never lost interest in the story. The audio narration was well done. The only thing that annoyed me was the whiny voice the narrator used for 5 year old Kristen. Fortunately she didn&#8217;t have many lines in the book.This book played out in a predictable manner. Although one thing I have learned from reading Nicholas Sparks is that sometimes he is not predictable and he goes for the heart-break ending. This book did have an unpredictable element to the ending but thankfully it was a touching unpredictable and not a heart-breaking unpredictable.Content: Just a couple of swear words. One of the characters in this book is psycho, I mean seriously crazy. We hear his demented crazy thought process and the details of some of the things he does are described. There are scenes of physical abuse described and a few sex scenes that aren&#8217;t overly graphic but are lewd. Although I can&#8217;t classify this book as clean it wasn&#8217;t nearly as graphic as it could have been. It was well written and I would recommend it to adults who have read this content warning.Rating: 4 Stars. I made it through this book in less than 2 days. Some great writing from Nicholas Sparks.Source: I received an audio version of this book from Hachette.'"
      ]
     },
     "execution_count": 3,
     "metadata": {},
     "output_type": "execute_result"
    }
   ],
   "source": [
    "#Loading the dataset into the jupyter notebook and storing the reviews as a list.\n",
    "import json\n",
    "\n",
    "review_file = \"./data/book_reviews.json\"\n",
    "\n",
    "reviews = []\n",
    "with open(review_file) as f:\n",
    "    for line in f:\n",
    "        review = json.loads(line)\n",
    "        reviews.append(Review(review[\"reviewText\"], review[\"overall\"]))\n",
    "\n",
    "# Display the third review in the list of reviews\n",
    "reviews[2].text"
   ]
  },
  {
   "cell_type": "code",
   "execution_count": 6,
   "id": "af78d4a4",
   "metadata": {},
   "outputs": [],
   "source": [
    "# Splitting the reviews into train and test splits\n",
    "from sklearn.model_selection import train_test_split\n",
    "\n",
    "# Split the reviews using 30% as test set and 70% as training set.\n",
    "train, test = train_test_split(reviews, test_size=0.3, random_state=42)\n",
    "\n",
    "# Instantiating the train_container and test_container using the ReviewContainer class created above.\n",
    "train_container = ReviewContainer(train)\n",
    "\n",
    "test_container = ReviewContainer(test)"
   ]
  },
  {
   "cell_type": "code",
   "execution_count": 7,
   "id": "b20d46c7",
   "metadata": {},
   "outputs": [
    {
     "name": "stdout",
     "output_type": "stream",
     "text": [
      "461\n",
      "461\n"
     ]
    }
   ],
   "source": [
    "train_container.evenly_distribute()\n",
    "train_x = train_container.get_text()\n",
    "train_y = train_container.get_sentiment()\n",
    "\n",
    "test_container.evenly_distribute()\n",
    "test_x = test_container.get_text()\n",
    "test_y = test_container.get_sentiment()\n",
    "\n",
    "print(train_y.count(Sentiment.POSITIVE))\n",
    "print(train_y.count(Sentiment.NEGATIVE))"
   ]
  },
  {
   "cell_type": "code",
   "execution_count": 8,
   "id": "58c7b09d",
   "metadata": {},
   "outputs": [
    {
     "name": "stdout",
     "output_type": "stream",
     "text": [
      "Winter's Past by Mary E. Hanks is a contemporary Christian novel that speaks of God's redemption and forgiveness in marriage.Winter Cowan is a Christian speaker and the head of Passion's Prayer, a group of like-minded individuals travelling across the country sharing the Good News of Jesus Christ. Unfortunately, they are going to  Coeur d'Alene, Idaho and there is one person there she does not want to see - her ex-husband.Ty Williams is a changed man and he is determined that Winter knows it. While he realizes he was the cause of their break-up, he is trusting God to make Winter see that he is a changed man - one who believes in God now. He is determined to win her back and re-marry &#34;the wife of his youth.&#34; Now all he has to do is get Winter to forgive him. But will Winter practice what she preaches? Can she ever really trust or forgive Ty for cheating on her?And that is the crux of this story right there. Winter preaches about God's forgiveness, so now she basically has to practice it or be a hypocrite. The author has done a good job of creating the horror that Winter experienced when she was faced with the infidelity of her spouse. And she does an equally good job of showing the angst that comes with practising what all Christians preach - forgiveness.It's not so easy to forgive when you lose your trust in the one you have pledged your life to. Which is why I hope this book will touch a chord with Christians who  seem to be taking a page from the world these days and divorcing as often as Hollywood stars. It is a touchy subject, but the author has done a very good job of fleshing it out.My only problem with this book would be that everyone seems to be Christian. For example, when asking to put flyers up in a restaurant, the owner (who was Christian) encouraged Jeremy (the one putting up the flyers) to tell everyone about Jesus. And of course everyone in the restaurant was very appreciative of that. As much as I wish that would happen in real life - it wouldn't. So that seemed a bit contrived. In addition, the Pastor who moons like a puppy-dog the moment he sees Winter doesn't seem plausible either. It was in fact uncomfortable to read and made the Pastor come off as a sappy kind of teenager, which I'm sure the author did not intend. If she chose to ever rewrite her book I would suggest she work on those two areas.Despite that however, the book is one that I would encourage you to read as it speaks of love, redemption and forgiveness in a big way and I believe would be an encouragement for Christian couples who are contemplating divorce. I give Winter's Past 4/5 stars.\n",
      "[[0. 0. 0. ... 0. 0. 0.]]\n"
     ]
    }
   ],
   "source": [
    "## Natural language processing on the reviews\n",
    "from sklearn.feature_extraction.text import CountVectorizer, TfidfVectorizer\n",
    "\n",
    "# TfidfVectorizer helps to break sentences into vectors, this helps the computation of the reviews.\n",
    "vectorizer = TfidfVectorizer() # Instantiating the TFIDFvectorizer\n",
    "train_x_vectors = vectorizer.fit_transform(train_x) # Applying the vectorizer to the reviews.\n",
    "\n",
    "test_x_vectors = vectorizer.transform(test_x) #Applying the transformation from the training data to the test dataset\n",
    "\n",
    "# Displaying how both the original review and the vectorized reviews look for better understanding.\n",
    "print(train_x[0]) # Original text\n",
    "print(train_x_vectors[0].toarray()) # Vectorized text"
   ]
  },
  {
   "cell_type": "code",
   "execution_count": 9,
   "id": "754d17a8",
   "metadata": {},
   "outputs": [],
   "source": [
    "# Importing machine learning classifier models to be trained.\n",
    "from sklearn import svm\n",
    "from sklearn.tree import DecisionTreeClassifier\n",
    "from sklearn.naive_bayes import GaussianNB\n",
    "from sklearn.linear_model import LogisticRegression"
   ]
  },
  {
   "cell_type": "code",
   "execution_count": 11,
   "id": "4a0f64a5",
   "metadata": {},
   "outputs": [
    {
     "name": "stdout",
     "output_type": "stream",
     "text": [
      "0.8387978142076503\n",
      "\n",
      "I read the full account so felt this was a waste of my time and I could have been reading something more meaningful\n"
     ]
    },
    {
     "data": {
      "text/plain": [
       "array(['NEGATIVE'], dtype='<U8')"
      ]
     },
     "execution_count": 11,
     "metadata": {},
     "output_type": "execute_result"
    }
   ],
   "source": [
    "# Support Vector Machines: We are using a linear kernel. \n",
    "#This block of code trains the svm model on the training set and evaluates the model using the test set.\n",
    "# Then also check a review and investgates what the model predicts as the sentiment. \n",
    "svm_classifier = svm.SVC(kernel=\"linear\")\n",
    "\n",
    "svm_classifier.fit(train_x_vectors, train_y)\n",
    "\n",
    "print(svm_classifier.score(test_x_vectors, test_y))\n",
    "print()\n",
    "\n",
    "print(test_x[0])\n",
    "svm_classifier.predict(test_x_vectors[0])"
   ]
  },
  {
   "cell_type": "code",
   "execution_count": 12,
   "id": "fc6544e2",
   "metadata": {},
   "outputs": [
    {
     "name": "stdout",
     "output_type": "stream",
     "text": [
      "0.644808743169399\n",
      "\n",
      "The writing was ok,but there were so many places where the foul language was so unnecessary that it detracted from the storyline.  The actual concept was great, but in so many ways it just became tedious.\n"
     ]
    },
    {
     "data": {
      "text/plain": [
       "array(['NEGATIVE'], dtype='<U8')"
      ]
     },
     "execution_count": 12,
     "metadata": {},
     "output_type": "execute_result"
    }
   ],
   "source": [
    "# Decision Tree Classifier is trained in this cell of code. \n",
    "dt_classifier = DecisionTreeClassifier()\n",
    "\n",
    "dt_classifier.fit(train_x_vectors, train_y) #Training the model on the train split of the dataset.\n",
    "\n",
    "print(dt_classifier.score(test_x_vectors, test_y)) # Evaluating the performance of the dataset using the test splits.\n",
    "print()\n",
    "\n",
    "print(test_x[5]) # Prints the 6th review text\n",
    "dt_classifier.predict(test_x_vectors[5]) # Prints the output sentiment from the model."
   ]
  },
  {
   "cell_type": "code",
   "execution_count": 13,
   "id": "6abc19e8",
   "metadata": {},
   "outputs": [
    {
     "name": "stdout",
     "output_type": "stream",
     "text": [
      "0.8224043715846995\n",
      "\n",
      "While the attempt to write something new and worthwhile in an abused subgenre is more than welcome, the end result, at least in this case, fails exactly in the literary moments that should  embody its novelty.First, beside the steady use of an atrocious 'baristO' in place of the correct 'baristA', there are several grammar mistakes, which is quite rich in a work that tries to use a new, lyrical language.Second, the French locutions are out of place.Last, but absolutely not least, the pervasive poetic quotations appear -to me at least- far too long and hardly related with the feeling they are supposed to convey.Plot does not make a lot of sense and the overlong scene with Eden at the cafe is hardly conducive of the lead's growth.\n"
     ]
    },
    {
     "data": {
      "text/plain": [
       "array(['NEGATIVE'], dtype='<U8')"
      ]
     },
     "execution_count": 13,
     "metadata": {},
     "output_type": "execute_result"
    }
   ],
   "source": [
    "# Logistic Regression classifier is trained in this block of code.\n",
    "lr_classifier = LogisticRegression() # Instantiating the Logistic regression model\n",
    "\n",
    "lr_classifier.fit(train_x_vectors, train_y) # Training the model on the train split of the dataset\n",
    "\n",
    "print(lr_classifier.score(test_x_vectors, test_y)) #Evaluating the model using the test dataset.\n",
    "print()\n",
    "\n",
    "print(test_x[3]) #Print the third review (text) from the reviews list\n",
    "lr_classifier.predict(test_x_vectors[3]) #Print the predict sentiment for the review above."
   ]
  },
  {
   "cell_type": "code",
   "execution_count": 14,
   "id": "13d63fd6",
   "metadata": {},
   "outputs": [
    {
     "data": {
      "text/plain": [
       "array(['POSITIVE', 'NEGATIVE', 'POSITIVE'], dtype='<U8')"
      ]
     },
     "execution_count": 14,
     "metadata": {},
     "output_type": "execute_result"
    }
   ],
   "source": [
    "# Testing the capabilities of the model by giving it reviews to classify.\n",
    "# Creating a list of reviews\n",
    "test_set = [\"This is a great book\", \"I do not recommend this content\", \"Writer  must be very great\"]\n",
    "# VEctorizing the reviews using the previously instantiated above.\n",
    "new_test = vectorizer.transform(test_set)\n",
    "\n",
    "# Making predictions on the vectorized test reviews.\n",
    "lr_classifier.predict(new_test)"
   ]
  },
  {
   "cell_type": "markdown",
   "id": "0bc1430a",
   "metadata": {},
   "source": [
    "#### Saving the model."
   ]
  },
  {
   "cell_type": "code",
   "execution_count": 15,
   "id": "e219ee25",
   "metadata": {},
   "outputs": [],
   "source": [
    "import pickle"
   ]
  },
  {
   "cell_type": "code",
   "execution_count": 16,
   "id": "0a0bc130",
   "metadata": {},
   "outputs": [],
   "source": [
    "# Saving the model as a pickle file.\n",
    "with open(\"./sentiment_classifier.pkl\", \"wb\") as f:\n",
    "    pickle.dump(lr_classifier, f)"
   ]
  },
  {
   "cell_type": "code",
   "execution_count": 17,
   "id": "c06607b0",
   "metadata": {},
   "outputs": [
    {
     "name": "stdout",
     "output_type": "stream",
     "text": [
      "From the cover I thought this would be interesting. The SEX, SEX, SEX.... lots of SEX.... I read novels for good story lines, characters I care about, etc. Do not get this book even if free.\n"
     ]
    },
    {
     "data": {
      "text/plain": [
       "array(['NEGATIVE'], dtype='<U8')"
      ]
     },
     "execution_count": 17,
     "metadata": {},
     "output_type": "execute_result"
    }
   ],
   "source": [
    "# Loading the model for reuse.\n",
    "with open(\"./sentiment_classifier.pkl\", \"rb\") as f:\n",
    "    loaded_model = pickle.load(f)\n",
    "    \n",
    "print(test_x[10])\n",
    "loaded_model.predict(test_x_vectors[10])"
   ]
  }
 ],
 "metadata": {
  "kernelspec": {
   "display_name": "Python 3",
   "language": "python",
   "name": "python3"
  },
  "language_info": {
   "codemirror_mode": {
    "name": "ipython",
    "version": 3
   },
   "file_extension": ".py",
   "mimetype": "text/x-python",
   "name": "python",
   "nbconvert_exporter": "python",
   "pygments_lexer": "ipython3",
   "version": "3.7.6"
  }
 },
 "nbformat": 4,
 "nbformat_minor": 5
}
